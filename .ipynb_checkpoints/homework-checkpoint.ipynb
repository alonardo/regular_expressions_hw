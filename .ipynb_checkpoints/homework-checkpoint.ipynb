{
 "cells": [
  {
   "cell_type": "markdown",
   "metadata": {},
   "source": [
    "# Regular Expressions"
   ]
  },
  {
   "cell_type": "markdown",
   "metadata": {},
   "source": [
    "# In-Class Exercise #3 <br>\n",
    "<p>Print each persons name and twitter handle, using groups, should look like:</p>\n",
    "<p>==============<br>\n",
    "   Full Name / Twitter<br>\n",
    "   ==============</p>\n",
    "Derek Hawkins / @derekhawkins\n",
    "\n",
    " Erik Sven-Osterberg / @sverik\n",
    "\n",
    " Ryan Butz / @ryanbutz\n",
    "\n",
    " Example Exampleson / @example\n",
    "\n",
    " Ripal Pael / @ripalp\n",
    "\n",
    " Darth Vader / @darthvader"
   ]
  },
  {
   "cell_type": "code",
   "execution_count": 6,
   "metadata": {
    "scrolled": false
   },
   "outputs": [
    {
     "name": "stdout",
     "output_type": "stream",
     "text": [
      "['@derekhawkins']\n",
      "['@sverik']\n",
      "['@ryanbutz']\n",
      "['@example']\n",
      "['@ripalp']\n",
      "['@darthvader']\n",
      "\n",
      " ===================\n",
      " Full Name / Twitter\n",
      " ===================\n",
      "\n",
      " Derek Hawkins / @derekhawkins\n",
      "\n",
      " Norrbotten Governor / @sverik\n",
      "\n",
      " Ryan Butz / @ryanbutz\n",
      "\n",
      " Example Exampleson / @example\n",
      "\n",
      " Ripal Pael / @ripalp\n",
      "\n",
      " Darth Vader / @darthvader\n",
      "\n"
     ]
    }
   ],
   "source": [
    "# My attempt...\n",
    "import re\n",
    "\n",
    "with open('./files/names.txt') as file:\n",
    "    file_by_line=file.readlines()\n",
    "    \n",
    "for line in file_by_line:\n",
    "    twitter = re.findall('[\\t](@\\w+)', line)\n",
    "    if twitter:\n",
    "        print(twitter)\n",
    "\n",
    "\n",
    "# Final solution...\n",
    "\n",
    "file = open('./files/names.txt')\n",
    "data = file.read()\n",
    "\n",
    "print('''\n",
    " ===================\n",
    " Full Name / Twitter\n",
    " ===================\n",
    "''')   \n",
    "\n",
    "new_data = data.split('\\n')\n",
    "for line in new_data:\n",
    "    twitter=re.findall('[\\t](@\\w+)', line)\n",
    "    if(twitter):\n",
    "        name=re.findall('(\\w+[-\\w+]?),(\\s\\w+)[\\t][^,]', line)\n",
    "        f_name=name[0][1]\n",
    "        l_name=name[0][0]\n",
    "        print(f'{f_name} {l_name} / {twitter[0]}\\n')\n",
    "\n"
   ]
  },
  {
   "cell_type": "markdown",
   "metadata": {},
   "source": [
    "### Regex project\n",
    "\n",
    "Use python to read the file regex_test.txt and print the last name on each line using regular expressions and groups (return None for names with no first and last name, or names that aren't properly capitalized)\n",
    "##### Hint: use with open() and readlines()"
   ]
  },
  {
   "cell_type": "code",
   "execution_count": null,
   "metadata": {},
   "outputs": [],
   "source": [
    "\"\"\"\n",
    "Expected Output\n",
    "Abraham Lincoln\n",
    "Andrew P Garfield\n",
    "Connor Milliken\n",
    "Jordan Alexander Williams\n",
    "None\n",
    "None\n",
    "\"\"\""
   ]
  },
  {
   "cell_type": "code",
   "execution_count": 4,
   "metadata": {
    "scrolled": true
   },
   "outputs": [
    {
     "name": "stdout",
     "output_type": "stream",
     "text": [
      "Abraham Lincoln\n",
      "Andrew P Garfield\n",
      "Connor Milliken\n",
      "Jordan Alexander Williams\n",
      "None\n",
      "None\n"
     ]
    }
   ],
   "source": [
    "import re\n",
    "\n",
    "with open('./files/regex-test.txt') as file:\n",
    "    file_by_line=file.readlines()\n",
    "    \n",
    "pattern = re.compile(r'([A-Z][\\w]*) ([A-Z][\\w| ]*)')\n",
    "    \n",
    "for line in file_by_line:\n",
    "    match = pattern.search(line)\n",
    "    if match:\n",
    "        print(match.group())\n",
    "        \n",
    "    else:\n",
    "        print('None')\n",
    "    "
   ]
  }
 ],
 "metadata": {
  "kernelspec": {
   "display_name": "Python 3 (ipykernel)",
   "language": "python",
   "name": "python3"
  },
  "language_info": {
   "codemirror_mode": {
    "name": "ipython",
    "version": 3
   },
   "file_extension": ".py",
   "mimetype": "text/x-python",
   "name": "python",
   "nbconvert_exporter": "python",
   "pygments_lexer": "ipython3",
   "version": "3.8.8"
  }
 },
 "nbformat": 4,
 "nbformat_minor": 2
}
